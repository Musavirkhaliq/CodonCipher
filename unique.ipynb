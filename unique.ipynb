{
 "cells": [
  {
   "cell_type": "code",
   "execution_count": 2,
   "id": "0073f715",
   "metadata": {},
   "outputs": [
    {
     "name": "stdout",
     "output_type": "stream",
     "text": [
      "✅ Unique organisms saved to 'unique_organisms.txt' and 'unique_organisms.csv'\n"
     ]
    }
   ],
   "source": [
    "# save_unique_organisms.py\n",
    "\n",
    "data = \"\"\"Leishmania mexicana\n",
    "Coptis japonica\n",
    "Petunia hybrida\n",
    "Arabidopsis thaliana\n",
    "Homo sapiens\n",
    "Homo sapiens\n",
    "Culex tarsalis\n",
    "Macaca mulatta\n",
    "Oryza sativa\n",
    "Zea mays\n",
    "Drosophila yakuba\n",
    "Gallus gallus\n",
    "Drosophila simulans\n",
    "Triticum aestivum\n",
    "Drosophila melanogaster\n",
    "Oryctolagus cuniculus\n",
    "Drosophila melanogaster\n",
    "Drosophila melanogaster\n",
    "Hordeum vulgare\n",
    "Saccharomyces cerevisiae\n",
    "Secale cereale\n",
    "Mus musculus\n",
    "Mus musculus\n",
    "Stellaria longipes\n",
    "Rattus norvegicus\n",
    "Schistosoma japonicum\n",
    "Aspergillus oryzae\n",
    "Emericella nidulans\n",
    "Schistosoma mansoni\n",
    "Zygosaccharomyces bailii\n",
    "Latimeria chalumnae\n",
    "Coprinus cinereus,\n",
    "Achlya bisexualis,\n",
    "Taenia solium,\n",
    "Candida albicans,\n",
    "Schizosaccharomyces pombe,\n",
    "Caenorhabditis elegans,\n",
    "\"\"\"\n",
    "\n",
    "# clean organism names\n",
    "organisms = [line.strip().rstrip(\",\") for line in data.splitlines() if line.strip()]\n",
    "\n",
    "# get unique sorted organisms\n",
    "unique_organisms = sorted(set(organisms))\n",
    "\n",
    "# save to text file\n",
    "with open(\"unique_organisms.txt\", \"w\") as f:\n",
    "    for org in unique_organisms:\n",
    "        f.write(org + \"\\n\")\n",
    "\n",
    "# save to CSV (with index)\n",
    "import csv\n",
    "with open(\"unique_organisms.csv\", \"w\", newline=\"\") as f:\n",
    "    writer = csv.writer(f)\n",
    "    writer.writerow([\"Index\", \"Organism\"])\n",
    "    for i, org in enumerate(unique_organisms, start=1):\n",
    "        writer.writerow([i, org])\n",
    "\n",
    "print(\"✅ Unique organisms saved to 'unique_organisms.txt' and 'unique_organisms.csv'\")\n"
   ]
  },
  {
   "cell_type": "code",
   "execution_count": null,
   "id": "278698bc",
   "metadata": {},
   "outputs": [],
   "source": []
  }
 ],
 "metadata": {
  "kernelspec": {
   "display_name": "deeplearning",
   "language": "python",
   "name": "python3"
  },
  "language_info": {
   "codemirror_mode": {
    "name": "ipython",
    "version": 3
   },
   "file_extension": ".py",
   "mimetype": "text/x-python",
   "name": "python",
   "nbconvert_exporter": "python",
   "pygments_lexer": "ipython3",
   "version": "3.12.2"
  }
 },
 "nbformat": 4,
 "nbformat_minor": 5
}
