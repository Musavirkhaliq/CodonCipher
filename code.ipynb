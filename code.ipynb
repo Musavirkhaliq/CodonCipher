{
 "cells": [
  {
   "cell_type": "code",
   "execution_count": 13,
   "id": "5dee2c73",
   "metadata": {},
   "outputs": [
    {
     "name": "stdout",
     "output_type": "stream",
     "text": [
      "Status Code: 500\n",
      "Response JSON: {'context': '', 'correlation_id': '549f9a77-b636-407e-b21f-e3855923902c', 'distance': '', 'download_link': [], 'enterprise_app': '', 'execution_time': 0.01508021354675293, 'flow_id': '', 'flow_type': '', 'images': '[]', 'media_url': '', 'query_from_agent': False, 'questions': [], 'response': \"Internal Server Error 'NoneType' object is not subscriptable\", 'responseSource': '', 'sessionId': '', 'source': [], 'source_chunks': [], 'source_scores': [], 'thread_id': '', 'userRequest': '', 'userRequestDescription': '', 'userRequestType': 'text'}\n"
     ]
    }
   ],
   "source": [
    "import requests\n",
    "\n",
    "# API endpoint\n",
    "url = \"https://blueverse-foundry.ltimindtree.com/chatservice/chat\"\n",
    "\n",
    "# Replace with your actual Bearer token\n",
    "bearer_token = \"eyJhbGciOiJSUzI1NiIsInR5cCIgOiAiSldUIiwia2lkIiA6ICJmdVdXcndULWRia28xZ2JwbmFFWkU2V2d1RjJ4RERGSHAyMlYzdUV6UDA4In0.eyJleHAiOjE3NTY0NTI1ODQsImlhdCI6MTc1NjQ1MTA4NCwiYXV0aF90aW1lIjoxNzU2NDUxMDgyLCJqdGkiOiJvbnJ0YWM6M2ZkMmI5MDYtOTJiOC00NTk1LTgxZGQtYzZiYjY1ZDI4MmEwIiwiaXNzIjoiaHR0cHM6Ly9ibHVldmVyc2UtZm91bmRyeS5sdGltaW5kdHJlZS5jb20va2V5Y2xvYWsvcmVhbG1zL2NhbnZhc2FpIiwiYXVkIjpbImJyb2tlciIsImFjY291bnQiXSwic3ViIjoiNmQwNGYwNjQtNDc3OC00MTI1LWJiMDAtMDg0MzAzNDM0ZTE1IiwidHlwIjoiQmVhcmVyIiwiYXpwIjoiY2FudmFzYWktY29udHJvbHBsYW5lLXVpIiwic2lkIjoiNmE1NDM1ODAtODQyZC00MjA5LWFjZGUtYmQ2N2Y5MTBiNjhkIiwiYWNyIjoiMSIsImFsbG93ZWQtb3JpZ2lucyI6WyJodHRwczovL2JsdWV2ZXJzZS1mb3VuZHJ5Lmx0aW1pbmR0cmVlLmNvbS9zdHVkaW8iLCIqIl0sInJlYWxtX2FjY2VzcyI6eyJyb2xlcyI6WyJkZWZhdWx0LXJvbGVzLWNhbnZhc2FpIiwib2ZmbGluZV9hY2Nlc3MiLCJ1bWFfYXV0aG9yaXphdGlvbiJdfSwicmVzb3VyY2VfYWNjZXNzIjp7ImJyb2tlciI6eyJyb2xlcyI6WyJyZWFkLXRva2VuIl19LCJhY2NvdW50Ijp7InJvbGVzIjpbIm1hbmFnZS1hY2NvdW50IiwibWFuYWdlLWFjY291bnQtbGlua3MiLCJ2aWV3LXByb2ZpbGUiXX19LCJzY29wZSI6Im9wZW5pZCBlbWFpbCBHcm91cFNjb3BlIHByb2ZpbGUiLCJ1cG4iOiI0MTY5ZWRkYS04MzBjLTRiZTctODg2OS1hZjI2NjA5M2MxMzciLCJlbWFpbF92ZXJpZmllZCI6dHJ1ZSwibmFtZSI6Ik1hc2F2aXIgS2hsaXEiLCJncm91cHMiOlsiZGVmYXVsdC1yb2xlcy1jYW52YXNhaSIsIm9mZmxpbmVfYWNjZXNzIiwidW1hX2F1dGhvcml6YXRpb24iXSwicHJlZmVycmVkX3VzZXJuYW1lIjoiNDE2OWVkZGEtODMwYy00YmU3LTg4NjktYWYyNjYwOTNjMTM3IiwiZ2l2ZW5fbmFtZSI6Ik1hc2F2aXIiLCJmYW1pbHlfbmFtZSI6IktobGlxIiwiZW1haWwiOiJtYXNhdmlyLmtobGlxQGx0aW1pbmR0cmVlLmNvbSJ9.FQE-ipgkaq6vKgxQkKi2Gz4y_PNz9WgMXqvWgttpKQACMTzQUg_wB5-i12Lf67s1ZkzK0AWYcnPlBJlrgzFq0XxNGJga74cEWStdzykU18CvdBC-Kl5p48V0he8t6UfNt1yTvmF_JNHfDFR5ZWOEM6rDf0tIblkIxQiEYIRQ6LdBFORTREG8no_F0NfAXLU19s9rRfO8NwvPPGLcoqON7p3CroQYnxltQfS5Fr5A8zCPxxO-EG2U45xlllnSKGcI9fDzVMz9vzfJ8Hftsv8c7i9fEurfgPONhRBvJiWvnuxoJm5h_YF3CYyVX6k9QO46m62DtGvHV1ex35Wd9SJA5g\"\n",
    "\n",
    "# Headers\n",
    "headers = {\n",
    "    \"Content-Type\": \"application/json\",\n",
    "    \"Authorization\": f\"Bearer {bearer_token}\"\n",
    "}\n",
    "\n",
    "# Payload (exactly as curl expects)\n",
    "payload = {\n",
    "    \"query\": \"Hello, test query!\",\n",
    "    \"space_name\": \"ServiceAI_d0b12f98\",\n",
    "    \"flowId\": \"68b51e4acc1b151bfec8223\"\n",
    "}\n",
    "\n",
    "\n",
    "# Send POST request\n",
    "response = requests.post(url, headers=headers, json=payload)\n",
    "\n",
    "print(\"Status Code:\", response.status_code)\n",
    "try:\n",
    "    print(\"Response JSON:\", response.json())\n",
    "except Exception:\n",
    "    print(\"Response Text:\", response.text)"
   ]
  },
  {
   "cell_type": "code",
   "execution_count": null,
   "id": "6acb4ce8",
   "metadata": {},
   "outputs": [],
   "source": []
  }
 ],
 "metadata": {
  "kernelspec": {
   "display_name": "deeplearning",
   "language": "python",
   "name": "python3"
  },
  "language_info": {
   "codemirror_mode": {
    "name": "ipython",
    "version": 3
   },
   "file_extension": ".py",
   "mimetype": "text/x-python",
   "name": "python",
   "nbconvert_exporter": "python",
   "pygments_lexer": "ipython3",
   "version": "3.11.5"
  }
 },
 "nbformat": 4,
 "nbformat_minor": 5
}
